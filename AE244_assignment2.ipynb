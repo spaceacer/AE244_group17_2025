{
  "nbformat": 4,
  "nbformat_minor": 0,
  "metadata": {
    "colab": {
      "provenance": [],
      "authorship_tag": "ABX9TyMHzJ52OpTiD1UpyvgidIxG",
      "include_colab_link": true
    },
    "kernelspec": {
      "name": "python3",
      "display_name": "Python 3"
    },
    "language_info": {
      "name": "python"
    }
  },
  "cells": [
    {
      "cell_type": "markdown",
      "metadata": {
        "id": "view-in-github",
        "colab_type": "text"
      },
      "source": [
        "<a href=\"https://colab.research.google.com/github/spaceacer/AE244_group17_2025/blob/main/AE244_assignment2.ipynb\" target=\"_parent\"><img src=\"https://colab.research.google.com/assets/colab-badge.svg\" alt=\"Open In Colab\"/></a>"
      ]
    },
    {
      "cell_type": "code",
      "source": [
        "  #Om Nunase\n",
        "\n",
        "def camberline(m,p,t):\n",
        "\n",
        "  import numpy as np\n",
        "  import matplotlib.pyplot as plt\n",
        "\n",
        "  n = 1000     # number of points to be generated along the camber line\n",
        "  x = np.linspace(0, 1, n)\n",
        "  yc = np.zeros_like(x)\n",
        "\n",
        "  for i in range(len(x)):\n",
        "    if x[i] < p:\n",
        "      yc[i] = (m/p**2)*(2*p*x[i] - x[i]**2)       #equation obtained from ref1 given below:\n",
        "    else:\n",
        "      yc[i] = (m/(1-p)**2)*((1-2*p) + 2*p*x[i] - x[i]**2)    #equation obtained from ref1 given below\n",
        "\n",
        "\n",
        "  plt.plot(x,yc, label = 'mean camber line', color = 'red')\n",
        "\n",
        "  plt.xlim(-0.1,1.1)\n",
        "  plt.ylim(-0.5,0.5)\n",
        "  plt.grid(True)\n",
        "  plt.title(f'NACA {naca} Airfoil')\n",
        "  plt.xlabel('x(m)')\n",
        "  plt.ylabel('y(m)')\n",
        "  plt.legend()\n",
        "\n",
        "\n",
        "\n",
        "\n",
        "\n"
      ],
      "metadata": {
        "id": "AIpEC5R8YVgV"
      },
      "execution_count": null,
      "outputs": []
    },
    {
      "cell_type": "code",
      "source": [
        "#Yashashree\n",
        "#function to compute slope of camber line"
      ],
      "metadata": {
        "id": "Zl1lqAk2YWJ5"
      },
      "execution_count": null,
      "outputs": []
    },
    {
      "cell_type": "code",
      "source": [],
      "metadata": {
        "id": "hw54W3aSYWMe"
      },
      "execution_count": null,
      "outputs": []
    },
    {
      "cell_type": "code",
      "source": [
        "#main function\n",
        "#naca 4 digit input idhar karo\n",
        "#om\n",
        "def extract_naca_digits(naca_string):\n",
        "\n",
        "  m = int(naca_string[0])/100\n",
        "  p = int(naca_string[1])/10\n",
        "  t = int(naca_string[2:])/100\n",
        "  return camberline(m,p,t)\n",
        "\n"
      ],
      "metadata": {
        "id": "Ee-NMKPbYWPN"
      },
      "execution_count": null,
      "outputs": []
    },
    {
      "cell_type": "code",
      "source": [
        "#om\n",
        "naca = input()\n",
        "extract_naca_digits(naca)"
      ],
      "metadata": {
        "colab": {
          "base_uri": "https://localhost:8080/",
          "height": 490
        },
        "id": "jsN0mB6RYWRq",
        "outputId": "a7ff81db-d76d-48f9-9363-ba5552eb64cc"
      },
      "execution_count": null,
      "outputs": [
        {
          "name": "stdout",
          "output_type": "stream",
          "text": [
            "2121\n"
          ]
        },
        {
          "output_type": "display_data",
          "data": {
            "text/plain": [
              "<Figure size 640x480 with 1 Axes>"
            ],
            "image/png": "[encoded data removed]"
          },
          "metadata": {}
        }
      ]
    },
    {
      "cell_type": "code",
      "source": [
        "#om nunase\n",
        "def cl(angle_of_attack_deg):\n",
        "  import numpy as np\n",
        "  pi = np.pi\n",
        "  cl_val = 2*pi*angle_of_attack_deg*pi/180\n",
        "  return cl_val"
      ],
      "metadata": {
        "id": "-TaNHNk9YWUZ"
      },
      "execution_count": null,
      "outputs": []
    },
    {
      "cell_type": "code",
      "source": [
        "cl(4)"
      ],
      "metadata": {
        "id": "YbvlAMHRYWWy",
        "colab": {
          "base_uri": "https://localhost:8080/"
        },
        "outputId": "7b1487f2-a6af-4f40-d01f-5f7f5692efd5"
      },
      "execution_count": null,
      "outputs": [
        {
          "output_type": "execute_result",
          "data": {
            "text/plain": [
              "0.43864908449286033"
            ]
          },
          "metadata": {},
          "execution_count": 36
        }
      ]
    },
    {
      "cell_type": "code",
      "source": [],
      "metadata": {
        "id": "BlsHKKrzYWZh"
      },
      "execution_count": null,
      "outputs": []
    },
    {
      "cell_type": "code",
      "source": [],
      "metadata": {
        "id": "HHJQBIKMYWbx"
      },
      "execution_count": null,
      "outputs": []
    },
    {
      "cell_type": "code",
      "source": [],
      "metadata": {
        "id": "WvDKHkBoYWeZ"
      },
      "execution_count": null,
      "outputs": []
    },
    {
      "cell_type": "code",
      "source": [],
      "metadata": {
        "id": "JmxJ_QfWYWg6"
      },
      "execution_count": null,
      "outputs": []
    },
    {
      "cell_type": "code",
      "source": [],
      "metadata": {
        "id": "fnTnUWwIYWjR"
      },
      "execution_count": null,
      "outputs": []
    },
    {
      "cell_type": "code",
      "source": [],
      "metadata": {
        "id": "cz70g5cFYWly"
      },
      "execution_count": null,
      "outputs": []
    },
    {
      "cell_type": "code",
      "source": [],
      "metadata": {
        "id": "ph_B4KBsYT9W"
      },
      "execution_count": null,
      "outputs": []
    },
    {
      "cell_type": "code",
      "source": [],
      "metadata": {
        "id": "94VFg1SdYT_n"
      },
      "execution_count": null,
      "outputs": []
    },
    {
      "cell_type": "code",
      "source": [],
      "metadata": {
        "id": "mnKbQMseYUCZ"
      },
      "execution_count": null,
      "outputs": []
    },
    {
      "cell_type": "markdown",
      "source": [
        "REFERENCES:\n",
        "\n",
        "1.  https://web.stanford.edu/~cantwell/AA200_Course_Material/The%20NACA%20airfoil%20series.pdf\n"
      ],
      "metadata": {
        "id": "AEXd9xFzZTbA"
      }
    }
  ]
}